{
 "cells": [
  {
   "cell_type": "code",
   "execution_count": 4,
   "id": "f2a1d72d",
   "metadata": {},
   "outputs": [],
   "source": [
    "menu = {'1': {\"Name\": \" Cake\", \"Quantity\": 145, \"Price\": 100},\n",
    "'2':  {\"Name\": \"chocolate\", \"Quantity\": 324, \"Price\": 120},\n",
    "'3':  {\"Name\": \"ice cream\", \"Quantity\": 314, \"Price\": 130},\n",
    "'4':  {\"Name\": \"bbq\", \"Quantity\": 344, \"Price\": 150},\n",
    "'5':  {\"Name\": \"water\", \"Quantity\": 344, \"Price\": 140},\n",
    "'6':  {\"Name\": \"juice\", \"Quantity\": 342, \"Price\": 170},\n",
    "'7':  {\"Name\": \"dosa\", \"Quantity\": 342, \"Price\": 107},\n",
    "'8':  {\"Name\": \"idly\", \"Quantity\": 834, \"Price\": 190},\n",
    "'9':  {\"Name\": \"poori\", \"Quantity\": 284, \"Price\": 180},\n",
    "'10': {\"Name\": \"pongal\", \"Quantity\": 384, \"Price\": 103},\n",
    "'11': {\"Name\": \"rice\", \"Quantity\": 384, \"Price\": 145},\n",
    "'12': {\"Name\": \"chapathi\", \"Quantity\": 384, \"Price\": 123},\n",
    "'13': {\"Name\": \"parotta\", \"Quantity\": 343, \"Price\": 180},\n",
    "'14': {\"Name\": \"egg rice\", \"Quantity\": 364, \"Price\": 190},\n",
    "'15': {\"Name\": \"chicken rice\", \"Quantity\": 394, \"Price\": 140},\n",
    "'16': {\"Name\": \"tandhoori\", \"Quantity\": 343, \"Price\": 190},\n",
    "'17': {\"Name\": \"grill\", \"Quantity\": 394, \"Price\": 160},\n",
    "'18': {\"Name\": \"fish curry\", \"Quantity\": 346, \"Price\": 180},\n",
    "'19': {\"Name\": \"chicken curry\", \"Quantity\": 346, \"Price\": 130},\n",
    "'20': {\"Name\": \"jamun\", \"Quantity\": 346, \"Price\": 150},\n",
    "'21': {\"Name\": \"laddo\", \"Quantity\": 346, \"Price\": 160},\n",
    "'22': {\"Name\": \"kesari\", \"Quantity\": 934, \"Price\": 180},\n",
    "'23': {\"Name\": \"puff\", \"Quantity\": 364, \"Price\": 120},\n",
    "'24': {\"Name\": \"seven up\", \"Quantity\": 334, \"Price\": 130},\n",
    "'25': {\"Name\": \"red bull\", \"Quantity\": 334, \"Price\": 180},\n",
    "'26': {\"Name\": \"boounto\", \"Quantity\": 334, \"Price\": 140},\n",
    "'27': {\"Name\": \"chicken briyani\", \"Quantity\": 334, \"Price\": 150},\n",
    "'28': {\"Name\": \"mutton briyani\", \"Quantity\": 394, \"Price\": 140},\n",
    "'29': {\"Name\": \"prawn curry\", \"Quantity\": 354, \"Price\": 120},\n",
    "'30': {\"Name\": \"fish briyani\", \"Quantity\": 384, \"Price\": 110},\n",
    "}\n",
    "\n"
   ]
  },
  {
   "cell_type": "code",
   "execution_count": 5,
   "id": "b9e6b05e",
   "metadata": {},
   "outputs": [],
   "source": [
    "import json\n",
    "vems = json.dumps(menu)"
   ]
  },
  {
   "cell_type": "code",
   "execution_count": 6,
   "id": "457f4312",
   "metadata": {},
   "outputs": [],
   "source": [
    "import json\n",
    "\n",
    "fd = open(\"menu.json\",'r')\n",
    "r = fd.read()\n",
    "fd.close()\n",
    "\n"
   ]
  },
  {
   "cell_type": "code",
   "execution_count": 17,
   "id": "17b3a07a",
   "metadata": {},
   "outputs": [
    {
     "name": "stdout",
     "output_type": "stream",
     "text": [
      "      WELCOME   \n",
      "Enter the product_Id: 4\n",
      "Enter the quantity: 4\n",
      "Product:  bbq\n",
      "Price:  150\n",
      "Billing Amount:  600\n",
      "********************\n",
      "     THANK YOU\n"
     ]
    }
   ],
   "source": [
    " print(\"      WELCOME   \"    )\n",
    "ui_prod  = input(\"Enter the product_Id: \")\n",
    "ui_quant = int(input(\"Enter the quantity: \"))\n",
    "\n",
    "\n",
    "print(\"Product: \", menu[ui_prod]['Name'])\n",
    "print(\"Price: \", menu[ui_prod]['Price'])\n",
    "print(\"Billing Amount: \", menu[ui_prod]['Price'] * ui_quant)\n",
    "print(\"********************\")\n",
    "print(\"     THANK YOU\")\n",
    "\n",
    "menu[ui_prod]['Quantity'] = menu[ui_prod]['Quantity'] - ui_quant\n"
   ]
  },
  {
   "cell_type": "markdown",
   "id": "775aec86",
   "metadata": {},
   "source": [
    "# sales list "
   ]
  },
  {
   "cell_type": "code",
   "execution_count": 18,
   "id": "fb469b51",
   "metadata": {},
   "outputs": [],
   "source": [
    "#sales = {}"
   ]
  },
  {
   "cell_type": "code",
   "execution_count": 26,
   "id": "291a3aa2",
   "metadata": {},
   "outputs": [],
   "source": [
    "sales = {'Product' : ui_prod, 'Quantity' : ui_quant, 'Billing Amount': menu[ui_prod]['Price'] * ui_quant}"
   ]
  },
  {
   "cell_type": "code",
   "execution_count": 20,
   "id": "8c826665",
   "metadata": {},
   "outputs": [],
   "source": [
    "import json\n",
    "sale= json.dumps(sales)"
   ]
  },
  {
   "cell_type": "code",
   "execution_count": 25,
   "id": "1dbeaa26",
   "metadata": {},
   "outputs": [],
   "source": [
    "fd = open (\"sales.json\",\"w\")\n",
    "fd.write(sale)\n",
    "fd.close()"
   ]
  },
  {
   "cell_type": "code",
   "execution_count": null,
   "id": "ec7c73d3",
   "metadata": {},
   "outputs": [],
   "source": []
  },
  {
   "cell_type": "code",
   "execution_count": null,
   "id": "4c69ea6e",
   "metadata": {},
   "outputs": [],
   "source": []
  }
 ],
 "metadata": {
  "kernelspec": {
   "display_name": "Python 3",
   "language": "python",
   "name": "python3"
  },
  "language_info": {
   "codemirror_mode": {
    "name": "ipython",
    "version": 3
   },
   "file_extension": ".py",
   "mimetype": "text/x-python",
   "name": "python",
   "nbconvert_exporter": "python",
   "pygments_lexer": "ipython3",
   "version": "3.8.8"
  }
 },
 "nbformat": 4,
 "nbformat_minor": 5
}
