{
 "cells": [
  {
   "cell_type": "markdown",
   "id": "89c5c3cc",
   "metadata": {},
   "source": [
    "# ADDING NEW ITEMS TO INVENTORY"
   ]
  },
  {
   "cell_type": "code",
   "execution_count": 29,
   "id": "1ef22462",
   "metadata": {},
   "outputs": [],
   "source": [
    "menu = {'1': {\"Name\": \" Cake\", \"Quantity\": 145, \"Price\": 100},\n",
    "'2':  {\"Name\": \"chocolate\", \"Quantity\": 324, \"Price\": 120},\n",
    "'3':  {\"Name\": \"ice cream\", \"Quantity\": 314, \"Price\": 130},\n",
    "'4':  {\"Name\": \"bbq\", \"Quantity\": 344, \"Price\": 150},\n",
    "'5':  {\"Name\": \"water\", \"Quantity\": 344, \"Price\": 140},\n",
    "'6':  {\"Name\": \"juice\", \"Quantity\": 342, \"Price\": 170},\n",
    "'7':  {\"Name\": \"dosa\", \"Quantity\": 342, \"Price\": 107},\n",
    "'8':  {\"Name\": \"idly\", \"Quantity\": 834, \"Price\": 190},\n",
    "'9':  {\"Name\": \"poori\", \"Quantity\": 284, \"Price\": 180},\n",
    "'10': {\"Name\": \"pongal\", \"Quantity\": 384, \"Price\": 103},\n",
    "'11': {\"Name\": \"rice\", \"Quantity\": 384, \"Price\": 145},\n",
    "'12': {\"Name\": \"chapathi\", \"Quantity\": 384, \"Price\": 123},\n",
    "'13': {\"Name\": \"parotta\", \"Quantity\": 343, \"Price\": 180},\n",
    "'14': {\"Name\": \"egg rice\", \"Quantity\": 364, \"Price\": 190},\n",
    "'15': {\"Name\": \"chicken rice\", \"Quantity\": 394, \"Price\": 140},\n",
    "'16': {\"Name\": \"tandhoori\", \"Quantity\": 343, \"Price\": 190},\n",
    "'17': {\"Name\": \"grill\", \"Quantity\": 394, \"Price\": 160},\n",
    "'18': {\"Name\": \"fish curry\", \"Quantity\": 346, \"Price\": 180},\n",
    "'19': {\"Name\": \"chicken curry\", \"Quantity\": 346, \"Price\": 130},\n",
    "'20': {\"Name\": \"jamun\", \"Quantity\": 346, \"Price\": 150},\n",
    "'21': {\"Name\": \"laddo\", \"Quantity\": 346, \"Price\": 160},\n",
    "'22': {\"Name\": \"kesari\", \"Quantity\": 934, \"Price\": 180},\n",
    "'23': {\"Name\": \"puff\", \"Quantity\": 364, \"Price\": 120},\n",
    "'24': {\"Name\": \"seven up\", \"Quantity\": 334, \"Price\": 130},\n",
    "'25': {\"Name\": \"red bull\", \"Quantity\": 334, \"Price\": 180},\n",
    "'26': {\"Name\": \"boounto\", \"Quantity\": 334, \"Price\": 140},\n",
    "'27': {\"Name\": \"chicken briyani\", \"Quantity\": 334, \"Price\": 150},\n",
    "'28': {\"Name\": \"mutton briyani\", \"Quantity\": 394, \"Price\": 140},\n",
    "'29': {\"Name\": \"prawn curry\", \"Quantity\": 354, \"Price\": 120},\n",
    "'30': {\"Name\": \"fish briyani\", \"Quantity\": 384, \"Price\": 110},\n",
    "}\n"
   ]
  },
  {
   "cell_type": "code",
   "execution_count": 30,
   "id": "ad9480dd",
   "metadata": {},
   "outputs": [],
   "source": [
    "import json\n",
    "vems = json.dumps(menu)"
   ]
  },
  {
   "cell_type": "code",
   "execution_count": 31,
   "id": "6caec6ab",
   "metadata": {},
   "outputs": [],
   "source": [
    "fd = open (\"menu.json\",\"w\")\n",
    "fd.write(vems)\n",
    "fd.close()"
   ]
  },
  {
   "cell_type": "code",
   "execution_count": 32,
   "id": "dfbefe57",
   "metadata": {},
   "outputs": [],
   "source": [
    "#fd = open(\"menu.json\",'r')\n",
    "#vemz = fd.read()\n",
    "#fd.close()"
   ]
  },
  {
   "cell_type": "code",
   "execution_count": 33,
   "id": "663367ed",
   "metadata": {},
   "outputs": [],
   "source": [
    "fd = open(\"menu.json\",'r')\n",
    "r = fd.read()\n",
    "fd.close()"
   ]
  },
  {
   "cell_type": "code",
   "execution_count": null,
   "id": "9faa98ca",
   "metadata": {},
   "outputs": [],
   "source": [
    "product_id = str(input(\"Enter product id:\"))\n",
    "Name = str(input(\"Enter name:\"))\n",
    "Price = int(input(\"Enter price:\"))\n",
    "Quantity = int(input(\"Enter quantity:\"))\n",
    "\n",
    "menu[product_id] = {'Name': Name, 'Price': Price, 'Quantity': Quantity }\n",
    "\n",
    "vems = json.dumps(menu)\n",
    "\n",
    "fd = open(\"menu.json\",'w')\n",
    "fd.write(js)\n",
    "fd.close()"
   ]
  },
  {
   "cell_type": "code",
   "execution_count": 28,
   "id": "cba7db46",
   "metadata": {},
   "outputs": [
    {
     "data": {
      "text/plain": [
       "{'1': {'Name': ' Cake', 'Quantity': 145, 'Price': 100},\n",
       " '2': {'Name': 'chocolate', 'Quantity': 324, 'Price': 120},\n",
       " '3': {'Name': 'ice cream', 'Quantity': 314, 'Price': 130},\n",
       " '4': {'Name': 'bbq', 'Quantity': 344, 'Price': 150},\n",
       " '5': {'Name': 'water', 'Quantity': 344, 'Price': 140},\n",
       " '6': {'Name': 'juice', 'Quantity': 342, 'Price': 170},\n",
       " '7': {'Name': 'dosa', 'Quantity': 342, 'Price': 107},\n",
       " '8': {'Name': 'idly', 'Quantity': 834, 'Price': 190},\n",
       " '9': {'Name': 'poori', 'Quantity': 284, 'Price': 180},\n",
       " '10': {'Name': 'pongal', 'Quantity': 384, 'Price': 103},\n",
       " '11': {'Name': 'rice', 'Quantity': 384, 'Price': 145},\n",
       " '12': {'Name': 'chapathi', 'Quantity': 384, 'Price': 123},\n",
       " '13': {'Name': 'parotta', 'Quantity': 343, 'Price': 180},\n",
       " '14': {'Name': 'egg rice', 'Quantity': 364, 'Price': 190},\n",
       " '15': {'Name': 'chicken rice', 'Quantity': 394, 'Price': 140},\n",
       " '16': {'Name': 'tandhoori', 'Quantity': 343, 'Price': 190},\n",
       " '17': {'Name': 'grill', 'Quantity': 394, 'Price': 160},\n",
       " '18': {'Name': 'fish curry', 'Quantity': 346, 'Price': 180},\n",
       " '19': {'Name': 'chicken curry', 'Quantity': 346, 'Price': 130},\n",
       " '20': {'Name': 'jamun', 'Quantity': 346, 'Price': 150},\n",
       " '21': {'Name': 'laddo', 'Quantity': 346, 'Price': 160},\n",
       " '22': {'Name': 'kesari', 'Quantity': 934, 'Price': 180},\n",
       " '23': {'Name': 'puff', 'Quantity': 364, 'Price': 120},\n",
       " '24': {'Name': 'seven up', 'Quantity': 334, 'Price': 130},\n",
       " '25': {'Name': 'red bull', 'Quantity': 334, 'Price': 180},\n",
       " '26': {'Name': 'boounto', 'Quantity': 334, 'Price': 140},\n",
       " '27': {'Name': 'chicken briyani', 'Quantity': 334, 'Price': 150},\n",
       " '28': {'Name': 'mutton briyani', 'Quantity': 394, 'Price': 140},\n",
       " '29': {'Name': 'prawn curry', 'Quantity': 354, 'Price': 120},\n",
       " '30': {'Name': 'fish briyani', 'Quantity': 384, 'Price': 110},\n",
       " '32 ': {'Name': 'bike', 'Price': 5000, 'Quantity': 5}}"
      ]
     },
     "execution_count": 28,
     "metadata": {},
     "output_type": "execute_result"
    }
   ],
   "source": [
    "menu"
   ]
  },
  {
   "cell_type": "code",
   "execution_count": 18,
   "id": "515eb277",
   "metadata": {},
   "outputs": [],
   "source": [
    "del menu ['31']"
   ]
  },
  {
   "cell_type": "code",
   "execution_count": 19,
   "id": "f4db79cb",
   "metadata": {},
   "outputs": [
    {
     "data": {
      "text/plain": [
       "{'1': {'Name': ' Cake', 'Quantity': 145, 'Price': 100},\n",
       " '2': {'Name': 'chocolate', 'Quantity': 324, 'Price': 120},\n",
       " '3': {'Name': 'ice cream', 'Quantity': 314, 'Price': 130},\n",
       " '4': {'Name': 'bbq', 'Quantity': 344, 'Price': 150},\n",
       " '5': {'Name': 'water', 'Quantity': 344, 'Price': 140},\n",
       " '6': {'Name': 'juice', 'Quantity': 342, 'Price': 170},\n",
       " '7': {'Name': 'dosa', 'Quantity': 342, 'Price': 107},\n",
       " '8': {'Name': 'idly', 'Quantity': 834, 'Price': 190},\n",
       " '9': {'Name': 'poori', 'Quantity': 284, 'Price': 180},\n",
       " '10': {'Name': 'pongal', 'Quantity': 384, 'Price': 103},\n",
       " '11': {'Name': 'rice', 'Quantity': 384, 'Price': 145},\n",
       " '12': {'Name': 'chapathi', 'Quantity': 384, 'Price': 123},\n",
       " '13': {'Name': 'parotta', 'Quantity': 343, 'Price': 180},\n",
       " '14': {'Name': 'egg rice', 'Quantity': 364, 'Price': 190},\n",
       " '15': {'Name': 'chicken rice', 'Quantity': 394, 'Price': 140},\n",
       " '16': {'Name': 'tandhoori', 'Quantity': 343, 'Price': 190},\n",
       " '17': {'Name': 'grill', 'Quantity': 394, 'Price': 160},\n",
       " '18': {'Name': 'fish curry', 'Quantity': 346, 'Price': 180},\n",
       " '19': {'Name': 'chicken curry', 'Quantity': 346, 'Price': 130},\n",
       " '20': {'Name': 'jamun', 'Quantity': 346, 'Price': 150},\n",
       " '21': {'Name': 'laddo', 'Quantity': 346, 'Price': 160},\n",
       " '22': {'Name': 'kesari', 'Quantity': 934, 'Price': 180},\n",
       " '23': {'Name': 'puff', 'Quantity': 364, 'Price': 120},\n",
       " '24': {'Name': 'seven up', 'Quantity': 334, 'Price': 130},\n",
       " '25': {'Name': 'red bull', 'Quantity': 334, 'Price': 180},\n",
       " '26': {'Name': 'boounto', 'Quantity': 334, 'Price': 140},\n",
       " '27': {'Name': 'chicken briyani', 'Quantity': 334, 'Price': 150},\n",
       " '28': {'Name': 'mutton briyani', 'Quantity': 394, 'Price': 140},\n",
       " '29': {'Name': 'prawn curry', 'Quantity': 354, 'Price': 120},\n",
       " '30': {'Name': 'fish briyani', 'Quantity': 384, 'Price': 110},\n",
       " '31 ': {'Name': 'car', 'Price': 50000, 'Quantity': 52},\n",
       " '32': {'Name': 'car', 'Price': 55, 'Quantity': 45}}"
      ]
     },
     "execution_count": 19,
     "metadata": {},
     "output_type": "execute_result"
    }
   ],
   "source": [
    "menu"
   ]
  },
  {
   "cell_type": "code",
   "execution_count": 20,
   "id": "e0d42075",
   "metadata": {},
   "outputs": [],
   "source": [
    "del menu['32']"
   ]
  },
  {
   "cell_type": "code",
   "execution_count": 21,
   "id": "5261f24c",
   "metadata": {},
   "outputs": [
    {
     "data": {
      "text/plain": [
       "{'1': {'Name': ' Cake', 'Quantity': 145, 'Price': 100},\n",
       " '2': {'Name': 'chocolate', 'Quantity': 324, 'Price': 120},\n",
       " '3': {'Name': 'ice cream', 'Quantity': 314, 'Price': 130},\n",
       " '4': {'Name': 'bbq', 'Quantity': 344, 'Price': 150},\n",
       " '5': {'Name': 'water', 'Quantity': 344, 'Price': 140},\n",
       " '6': {'Name': 'juice', 'Quantity': 342, 'Price': 170},\n",
       " '7': {'Name': 'dosa', 'Quantity': 342, 'Price': 107},\n",
       " '8': {'Name': 'idly', 'Quantity': 834, 'Price': 190},\n",
       " '9': {'Name': 'poori', 'Quantity': 284, 'Price': 180},\n",
       " '10': {'Name': 'pongal', 'Quantity': 384, 'Price': 103},\n",
       " '11': {'Name': 'rice', 'Quantity': 384, 'Price': 145},\n",
       " '12': {'Name': 'chapathi', 'Quantity': 384, 'Price': 123},\n",
       " '13': {'Name': 'parotta', 'Quantity': 343, 'Price': 180},\n",
       " '14': {'Name': 'egg rice', 'Quantity': 364, 'Price': 190},\n",
       " '15': {'Name': 'chicken rice', 'Quantity': 394, 'Price': 140},\n",
       " '16': {'Name': 'tandhoori', 'Quantity': 343, 'Price': 190},\n",
       " '17': {'Name': 'grill', 'Quantity': 394, 'Price': 160},\n",
       " '18': {'Name': 'fish curry', 'Quantity': 346, 'Price': 180},\n",
       " '19': {'Name': 'chicken curry', 'Quantity': 346, 'Price': 130},\n",
       " '20': {'Name': 'jamun', 'Quantity': 346, 'Price': 150},\n",
       " '21': {'Name': 'laddo', 'Quantity': 346, 'Price': 160},\n",
       " '22': {'Name': 'kesari', 'Quantity': 934, 'Price': 180},\n",
       " '23': {'Name': 'puff', 'Quantity': 364, 'Price': 120},\n",
       " '24': {'Name': 'seven up', 'Quantity': 334, 'Price': 130},\n",
       " '25': {'Name': 'red bull', 'Quantity': 334, 'Price': 180},\n",
       " '26': {'Name': 'boounto', 'Quantity': 334, 'Price': 140},\n",
       " '27': {'Name': 'chicken briyani', 'Quantity': 334, 'Price': 150},\n",
       " '28': {'Name': 'mutton briyani', 'Quantity': 394, 'Price': 140},\n",
       " '29': {'Name': 'prawn curry', 'Quantity': 354, 'Price': 120},\n",
       " '30': {'Name': 'fish briyani', 'Quantity': 384, 'Price': 110},\n",
       " '31 ': {'Name': 'car', 'Price': 50000, 'Quantity': 52}}"
      ]
     },
     "execution_count": 21,
     "metadata": {},
     "output_type": "execute_result"
    }
   ],
   "source": [
    "menu"
   ]
  },
  {
   "cell_type": "code",
   "execution_count": null,
   "id": "0ec5aea3",
   "metadata": {},
   "outputs": [],
   "source": []
  }
 ],
 "metadata": {
  "kernelspec": {
   "display_name": "Python 3",
   "language": "python",
   "name": "python3"
  },
  "language_info": {
   "codemirror_mode": {
    "name": "ipython",
    "version": 3
   },
   "file_extension": ".py",
   "mimetype": "text/x-python",
   "name": "python",
   "nbconvert_exporter": "python",
   "pygments_lexer": "ipython3",
   "version": "3.8.8"
  }
 },
 "nbformat": 4,
 "nbformat_minor": 5
}
