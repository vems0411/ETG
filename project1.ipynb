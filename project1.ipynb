{
 "cells": [
  {
   "cell_type": "code",
   "execution_count": 4,
   "id": "cbc89305",
   "metadata": {},
   "outputs": [],
   "source": [
    "g = 'hrlo'"
   ]
  },
  {
   "cell_type": "code",
   "execution_count": 5,
   "id": "9f467fa4",
   "metadata": {},
   "outputs": [
    {
     "name": "stdout",
     "output_type": "stream",
     "text": [
      "hrlo\n"
     ]
    }
   ],
   "source": [
    "print(g)"
   ]
  },
  {
   "cell_type": "code",
   "execution_count": 28,
   "id": "9872b03d",
   "metadata": {},
   "outputs": [
    {
     "ename": "SyntaxError",
     "evalue": "cannot assign to literal (<ipython-input-28-4b7abca55539>, line 1)",
     "output_type": "error",
     "traceback": [
      "\u001b[1;36m  File \u001b[1;32m\"<ipython-input-28-4b7abca55539>\"\u001b[1;36m, line \u001b[1;32m1\u001b[0m\n\u001b[1;33m    5 = \"ji\"\u001b[0m\n\u001b[1;37m    ^\u001b[0m\n\u001b[1;31mSyntaxError\u001b[0m\u001b[1;31m:\u001b[0m cannot assign to literal\n"
     ]
    }
   ],
   "source": [
    "5 = \"ji\""
   ]
  },
  {
   "cell_type": "code",
   "execution_count": null,
   "id": "a934419a",
   "metadata": {},
   "outputs": [],
   "source": [
    "hi = (\"uioh\")\n"
   ]
  },
  {
   "cell_type": "code",
   "execution_count": null,
   "id": "74b0fc32",
   "metadata": {},
   "outputs": [],
   "source": [
    "print (hi)"
   ]
  },
  {
   "cell_type": "code",
   "execution_count": 2,
   "id": "a1d2eecb",
   "metadata": {},
   "outputs": [],
   "source": [
    "vems =\"you\""
   ]
  },
  {
   "cell_type": "code",
   "execution_count": 3,
   "id": "867f8e2d",
   "metadata": {},
   "outputs": [
    {
     "name": "stdout",
     "output_type": "stream",
     "text": [
      "you\n"
     ]
    }
   ],
   "source": [
    "print (vems)"
   ]
  },
  {
   "cell_type": "code",
   "execution_count": 1,
   "id": "3c4fec81",
   "metadata": {},
   "outputs": [
    {
     "name": "stdout",
     "output_type": "stream",
     "text": [
      "hieqwdf\n"
     ]
    }
   ],
   "source": [
    "print (\"hieqwdf\")"
   ]
  },
  {
   "cell_type": "code",
   "execution_count": 14,
   "id": "44325780",
   "metadata": {},
   "outputs": [],
   "source": [
    "vems =(\" hi  baby . how  are  you ?\")"
   ]
  },
  {
   "cell_type": "code",
   "execution_count": 15,
   "id": "4ffeb667",
   "metadata": {},
   "outputs": [
    {
     "data": {
      "text/plain": [
       "[' hi  baby', ' how  are  you ?']"
      ]
     },
     "execution_count": 15,
     "metadata": {},
     "output_type": "execute_result"
    }
   ],
   "source": [
    "vems.split(' .')"
   ]
  },
  {
   "cell_type": "code",
   "execution_count": 2,
   "id": "4cb6b644",
   "metadata": {
    "scrolled": true
   },
   "outputs": [
    {
     "ename": "NameError",
     "evalue": "name 'er' is not defined",
     "output_type": "error",
     "traceback": [
      "\u001b[1;31m---------------------------------------------------------------------------\u001b[0m",
      "\u001b[1;31mNameError\u001b[0m                                 Traceback (most recent call last)",
      "\u001b[1;32m<ipython-input-2-bf64a6892659>\u001b[0m in \u001b[0;36m<module>\u001b[1;34m\u001b[0m\n\u001b[1;32m----> 1\u001b[1;33m \u001b[0mtype\u001b[0m \u001b[1;33m(\u001b[0m\u001b[0mer\u001b[0m\u001b[1;33m)\u001b[0m\u001b[1;33m\u001b[0m\u001b[1;33m\u001b[0m\u001b[0m\n\u001b[0m",
      "\u001b[1;31mNameError\u001b[0m: name 'er' is not defined"
     ]
    }
   ],
   "source": [
    "type (er)"
   ]
  },
  {
   "cell_type": "code",
   "execution_count": 8,
   "id": "37a323e1",
   "metadata": {},
   "outputs": [],
   "source": [
    "num1 = 45 +58"
   ]
  },
  {
   "cell_type": "code",
   "execution_count": 9,
   "id": "158d46d2",
   "metadata": {},
   "outputs": [
    {
     "name": "stdout",
     "output_type": "stream",
     "text": [
      "103\n"
     ]
    }
   ],
   "source": [
    "print (num1)"
   ]
  },
  {
   "cell_type": "code",
   "execution_count": 16,
   "id": "7ce86dea",
   "metadata": {},
   "outputs": [],
   "source": [
    "num1 = num1+56"
   ]
  },
  {
   "cell_type": "code",
   "execution_count": 17,
   "id": "f87cf00d",
   "metadata": {},
   "outputs": [
    {
     "name": "stdout",
     "output_type": "stream",
     "text": [
      "327\n"
     ]
    }
   ],
   "source": [
    "print (num1)"
   ]
  },
  {
   "cell_type": "code",
   "execution_count": 18,
   "id": "31d0798d",
   "metadata": {},
   "outputs": [
    {
     "data": {
      "text/plain": [
       "-11.0"
      ]
     },
     "execution_count": 18,
     "metadata": {},
     "output_type": "execute_result"
    }
   ],
   "source": [
    "77/-7\n"
   ]
  },
  {
   "cell_type": "code",
   "execution_count": 19,
   "id": "361bd8be",
   "metadata": {},
   "outputs": [
    {
     "data": {
      "text/plain": [
       "11.0"
      ]
     },
     "execution_count": 19,
     "metadata": {},
     "output_type": "execute_result"
    }
   ],
   "source": [
    "-77/-7"
   ]
  },
  {
   "cell_type": "code",
   "execution_count": 21,
   "id": "18dba04e",
   "metadata": {},
   "outputs": [
    {
     "data": {
      "text/plain": [
       "-11.1"
      ]
     },
     "execution_count": 21,
     "metadata": {},
     "output_type": "execute_result"
    }
   ],
   "source": [
    "-77.7/7"
   ]
  },
  {
   "cell_type": "code",
   "execution_count": 22,
   "id": "ba424ac2",
   "metadata": {},
   "outputs": [
    {
     "data": {
      "text/plain": [
       "16"
      ]
     },
     "execution_count": 22,
     "metadata": {},
     "output_type": "execute_result"
    }
   ],
   "source": [
    "2**4"
   ]
  },
  {
   "cell_type": "code",
   "execution_count": 23,
   "id": "0e3f4a27",
   "metadata": {},
   "outputs": [
    {
     "ename": "ValueError",
     "evalue": "empty separator",
     "output_type": "error",
     "traceback": [
      "\u001b[1;31m---------------------------------------------------------------------------\u001b[0m",
      "\u001b[1;31mValueError\u001b[0m                                Traceback (most recent call last)",
      "\u001b[1;32m<ipython-input-23-cf532713c8be>\u001b[0m in \u001b[0;36m<module>\u001b[1;34m\u001b[0m\n\u001b[1;32m----> 1\u001b[1;33m \u001b[0mlen\u001b[0m\u001b[1;33m(\u001b[0m\u001b[1;34m'vems sel'\u001b[0m\u001b[1;33m.\u001b[0m\u001b[0msplit\u001b[0m\u001b[1;33m(\u001b[0m\u001b[1;34m''\u001b[0m\u001b[1;33m)\u001b[0m\u001b[1;33m)\u001b[0m\u001b[1;33m\u001b[0m\u001b[1;33m\u001b[0m\u001b[0m\n\u001b[0m",
      "\u001b[1;31mValueError\u001b[0m: empty separator"
     ]
    }
   ],
   "source": [
    "len('vems sel'.split(''))"
   ]
  },
  {
   "cell_type": "code",
   "execution_count": 24,
   "id": "41ff6341",
   "metadata": {},
   "outputs": [
    {
     "data": {
      "text/plain": [
       "int"
      ]
     },
     "execution_count": 24,
     "metadata": {},
     "output_type": "execute_result"
    }
   ],
   "source": [
    "type(54)"
   ]
  },
  {
   "cell_type": "code",
   "execution_count": 25,
   "id": "228160e6",
   "metadata": {},
   "outputs": [
    {
     "data": {
      "text/plain": [
       "str"
      ]
     },
     "execution_count": 25,
     "metadata": {},
     "output_type": "execute_result"
    }
   ],
   "source": [
    "type(\"654\")"
   ]
  },
  {
   "cell_type": "code",
   "execution_count": 26,
   "id": "272d5162",
   "metadata": {},
   "outputs": [],
   "source": [
    "vems = \"esf\"\n",
    "vems1 =(\"hih\")"
   ]
  },
  {
   "cell_type": "code",
   "execution_count": 27,
   "id": "d41ada50",
   "metadata": {},
   "outputs": [
    {
     "name": "stdout",
     "output_type": "stream",
     "text": [
      "esfhih\n"
     ]
    }
   ],
   "source": [
    "print(vems + vems1)"
   ]
  },
  {
   "cell_type": "code",
   "execution_count": null,
   "id": "16a05d52",
   "metadata": {},
   "outputs": [],
   "source": []
  }
 ],
 "metadata": {
  "kernelspec": {
   "display_name": "Python 3",
   "language": "python",
   "name": "python3"
  },
  "language_info": {
   "codemirror_mode": {
    "name": "ipython",
    "version": 3
   },
   "file_extension": ".py",
   "mimetype": "text/x-python",
   "name": "python",
   "nbconvert_exporter": "python",
   "pygments_lexer": "ipython3",
   "version": "3.8.8"
  }
 },
 "nbformat": 4,
 "nbformat_minor": 5
}
